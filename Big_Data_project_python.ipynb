{
 "cells": [
  {
   "cell_type": "code",
   "execution_count": 5,
   "metadata": {},
   "outputs": [],
   "source": [
    "import pandas as pd\n",
    "import tabpy_client\n",
    "from sklearn.model_selection import train_test_split\n",
    "import numpy as np"
   ]
  },
  {
   "cell_type": "code",
   "execution_count": 21,
   "metadata": {},
   "outputs": [],
   "source": [
    "avg_milage=pd.read_csv(\"avg_milage.csv\")\n",
    "riskfactor= pd.read_csv(\"riskfactor.csv\")\n",
    "geolocation= pd.read_csv(\"geolocation.csv\")\n",
    "idling=pd.read_csv(\"count_idling.csv\")\n",
    "truck_milage= pd.read_csv(\"truck_milage.csv\")"
   ]
  },
  {
   "cell_type": "code",
   "execution_count": 22,
   "metadata": {},
   "outputs": [
    {
     "data": {
      "text/html": [
       "<div>\n",
       "<style scoped>\n",
       "    .dataframe tbody tr th:only-of-type {\n",
       "        vertical-align: middle;\n",
       "    }\n",
       "\n",
       "    .dataframe tbody tr th {\n",
       "        vertical-align: top;\n",
       "    }\n",
       "\n",
       "    .dataframe thead th {\n",
       "        text-align: right;\n",
       "    }\n",
       "</style>\n",
       "<table border=\"1\" class=\"dataframe\">\n",
       "  <thead>\n",
       "    <tr style=\"text-align: right;\">\n",
       "      <th></th>\n",
       "      <th>truckid</th>\n",
       "      <th>driverid</th>\n",
       "      <th>event</th>\n",
       "      <th>latitude</th>\n",
       "      <th>longitude</th>\n",
       "      <th>city</th>\n",
       "      <th>state</th>\n",
       "      <th>velocity</th>\n",
       "      <th>event_ind</th>\n",
       "      <th>idling_ind</th>\n",
       "    </tr>\n",
       "  </thead>\n",
       "  <tbody>\n",
       "    <tr>\n",
       "      <td>0</td>\n",
       "      <td>A54</td>\n",
       "      <td>A54</td>\n",
       "      <td>normal</td>\n",
       "      <td>38.440467</td>\n",
       "      <td>-122.714431</td>\n",
       "      <td>Santa Rosa</td>\n",
       "      <td>California</td>\n",
       "      <td>17</td>\n",
       "      <td>0</td>\n",
       "      <td>0</td>\n",
       "    </tr>\n",
       "    <tr>\n",
       "      <td>1</td>\n",
       "      <td>A20</td>\n",
       "      <td>A20</td>\n",
       "      <td>normal</td>\n",
       "      <td>36.977173</td>\n",
       "      <td>-121.899402</td>\n",
       "      <td>Aptos</td>\n",
       "      <td>California</td>\n",
       "      <td>27</td>\n",
       "      <td>0</td>\n",
       "      <td>0</td>\n",
       "    </tr>\n",
       "    <tr>\n",
       "      <td>2</td>\n",
       "      <td>A40</td>\n",
       "      <td>A40</td>\n",
       "      <td>overspeed</td>\n",
       "      <td>37.957702</td>\n",
       "      <td>-121.290780</td>\n",
       "      <td>Stockton</td>\n",
       "      <td>California</td>\n",
       "      <td>77</td>\n",
       "      <td>1</td>\n",
       "      <td>0</td>\n",
       "    </tr>\n",
       "    <tr>\n",
       "      <td>3</td>\n",
       "      <td>A31</td>\n",
       "      <td>A31</td>\n",
       "      <td>normal</td>\n",
       "      <td>39.409608</td>\n",
       "      <td>-123.355566</td>\n",
       "      <td>Willits</td>\n",
       "      <td>California</td>\n",
       "      <td>22</td>\n",
       "      <td>0</td>\n",
       "      <td>0</td>\n",
       "    </tr>\n",
       "    <tr>\n",
       "      <td>4</td>\n",
       "      <td>A71</td>\n",
       "      <td>A71</td>\n",
       "      <td>normal</td>\n",
       "      <td>33.683947</td>\n",
       "      <td>-117.794694</td>\n",
       "      <td>Irvine</td>\n",
       "      <td>California</td>\n",
       "      <td>43</td>\n",
       "      <td>0</td>\n",
       "      <td>0</td>\n",
       "    </tr>\n",
       "    <tr>\n",
       "      <td>...</td>\n",
       "      <td>...</td>\n",
       "      <td>...</td>\n",
       "      <td>...</td>\n",
       "      <td>...</td>\n",
       "      <td>...</td>\n",
       "      <td>...</td>\n",
       "      <td>...</td>\n",
       "      <td>...</td>\n",
       "      <td>...</td>\n",
       "      <td>...</td>\n",
       "    </tr>\n",
       "    <tr>\n",
       "      <td>7995</td>\n",
       "      <td>A19</td>\n",
       "      <td>A19</td>\n",
       "      <td>normal</td>\n",
       "      <td>35.373292</td>\n",
       "      <td>-119.018712</td>\n",
       "      <td>Bakersfield</td>\n",
       "      <td>California</td>\n",
       "      <td>25</td>\n",
       "      <td>0</td>\n",
       "      <td>0</td>\n",
       "    </tr>\n",
       "    <tr>\n",
       "      <td>7996</td>\n",
       "      <td>A14</td>\n",
       "      <td>A14</td>\n",
       "      <td>normal</td>\n",
       "      <td>37.957702</td>\n",
       "      <td>-121.290780</td>\n",
       "      <td>Stockton</td>\n",
       "      <td>California</td>\n",
       "      <td>0</td>\n",
       "      <td>0</td>\n",
       "      <td>1</td>\n",
       "    </tr>\n",
       "    <tr>\n",
       "      <td>7997</td>\n",
       "      <td>A88</td>\n",
       "      <td>A88</td>\n",
       "      <td>normal</td>\n",
       "      <td>38.440467</td>\n",
       "      <td>-122.714431</td>\n",
       "      <td>Santa Rosa</td>\n",
       "      <td>California</td>\n",
       "      <td>0</td>\n",
       "      <td>0</td>\n",
       "      <td>1</td>\n",
       "    </tr>\n",
       "    <tr>\n",
       "      <td>7998</td>\n",
       "      <td>A75</td>\n",
       "      <td>A75</td>\n",
       "      <td>normal</td>\n",
       "      <td>38.364080</td>\n",
       "      <td>-122.524149</td>\n",
       "      <td>Glen Ellen</td>\n",
       "      <td>California</td>\n",
       "      <td>17</td>\n",
       "      <td>0</td>\n",
       "      <td>0</td>\n",
       "    </tr>\n",
       "    <tr>\n",
       "      <td>7999</td>\n",
       "      <td>A71</td>\n",
       "      <td>A71</td>\n",
       "      <td>normal</td>\n",
       "      <td>33.195870</td>\n",
       "      <td>-117.379483</td>\n",
       "      <td>Oceanside</td>\n",
       "      <td>California</td>\n",
       "      <td>0</td>\n",
       "      <td>0</td>\n",
       "      <td>1</td>\n",
       "    </tr>\n",
       "  </tbody>\n",
       "</table>\n",
       "<p>8000 rows × 10 columns</p>\n",
       "</div>"
      ],
      "text/plain": [
       "     truckid driverid      event   latitude   longitude         city  \\\n",
       "0        A54      A54     normal  38.440467 -122.714431   Santa Rosa   \n",
       "1        A20      A20     normal  36.977173 -121.899402        Aptos   \n",
       "2        A40      A40  overspeed  37.957702 -121.290780     Stockton   \n",
       "3        A31      A31     normal  39.409608 -123.355566      Willits   \n",
       "4        A71      A71     normal  33.683947 -117.794694       Irvine   \n",
       "...      ...      ...        ...        ...         ...          ...   \n",
       "7995     A19      A19     normal  35.373292 -119.018712  Bakersfield   \n",
       "7996     A14      A14     normal  37.957702 -121.290780     Stockton   \n",
       "7997     A88      A88     normal  38.440467 -122.714431   Santa Rosa   \n",
       "7998     A75      A75     normal  38.364080 -122.524149   Glen Ellen   \n",
       "7999     A71      A71     normal  33.195870 -117.379483    Oceanside   \n",
       "\n",
       "           state  velocity  event_ind  idling_ind  \n",
       "0     California        17          0           0  \n",
       "1     California        27          0           0  \n",
       "2     California        77          1           0  \n",
       "3     California        22          0           0  \n",
       "4     California        43          0           0  \n",
       "...          ...       ...        ...         ...  \n",
       "7995  California        25          0           0  \n",
       "7996  California         0          0           1  \n",
       "7997  California         0          0           1  \n",
       "7998  California        17          0           0  \n",
       "7999  California         0          0           1  \n",
       "\n",
       "[8000 rows x 10 columns]"
      ]
     },
     "execution_count": 22,
     "metadata": {},
     "output_type": "execute_result"
    }
   ],
   "source": [
    "geolocation"
   ]
  },
  {
   "cell_type": "code",
   "execution_count": 23,
   "metadata": {},
   "outputs": [],
   "source": [
    "geo_new=geolocation.groupby(\"driverid\",as_index=False).mean()[['driverid','velocity']]"
   ]
  },
  {
   "cell_type": "code",
   "execution_count": 24,
   "metadata": {},
   "outputs": [],
   "source": [
    "avg_milage[\"driverid\"]= avg_milage[\"truckid\"]\n",
    "avg_milage.drop(\"truckid\",axis=1,inplace=True)"
   ]
  },
  {
   "cell_type": "code",
   "execution_count": 25,
   "metadata": {},
   "outputs": [],
   "source": [
    "data1=pd.merge(avg_milage,riskfactor,left_on=\"driverid\",right_on=\"driverid\",how=\"inner\")\n",
    "data2=pd.merge(data1,geo_new,left_on=\"driverid\",right_on=\"driverid\",how=\"inner\")\n",
    "data=pd.merge(data2,idling,left_on=\"driverid\",right_on=\"driverid\",how=\"inner\")\n",
    "data[\"riskfactor\"]=(data[\"events\"]/data[\"totmiles\"])*1000000\n",
    "func= lambda x: 1 if x>7 else 0\n",
    "data[\"logic\"]=data[\"riskfactor\"].apply(func)"
   ]
  },
  {
   "cell_type": "code",
   "execution_count": 26,
   "metadata": {},
   "outputs": [],
   "source": [
    "y=data[\"logic\"]\n",
    "list_did=data[\"driverid\"].tolist()\n",
    "x=data.drop([\"logic\",\"driverid\",\"riskfactor\",\"events\",\"totmiles\"],axis=1)\n",
    "x_train, x_test, y_train, y_test = train_test_split( x, y, test_size=0.40, random_state=42)"
   ]
  },
  {
   "cell_type": "code",
   "execution_count": 27,
   "metadata": {},
   "outputs": [
    {
     "name": "stderr",
     "output_type": "stream",
     "text": [
      "D:\\nickiminaj\\lib\\site-packages\\sklearn\\linear_model\\logistic.py:432: FutureWarning: Default solver will be changed to 'lbfgs' in 0.22. Specify a solver to silence this warning.\n",
      "  FutureWarning)\n"
     ]
    }
   ],
   "source": [
    "from sklearn.linear_model import LogisticRegression\n",
    "clf=LogisticRegression(random_state=43,fit_intercept=True).fit(x_train, y_train)\n",
    "predicted=clf.predict_proba(x_test)"
   ]
  },
  {
   "cell_type": "code",
   "execution_count": 28,
   "metadata": {
    "scrolled": true
   },
   "outputs": [
    {
     "data": {
      "text/plain": [
       "0.45"
      ]
     },
     "execution_count": 28,
     "metadata": {},
     "output_type": "execute_result"
    }
   ],
   "source": [
    "clf.score(x_test,y_test)"
   ]
  },
  {
   "cell_type": "code",
   "execution_count": 29,
   "metadata": {},
   "outputs": [],
   "source": [
    "# Connect to TabPy server using the client library\n",
    "connection = tabpy_client.Client('http://localhost:9004/')"
   ]
  },
  {
   "cell_type": "code",
   "execution_count": 30,
   "metadata": {},
   "outputs": [],
   "source": [
    "def predictProb(avgmpg,velocity,idling_count):\n",
    "    x=np.column_stack([avgmpg,velocity,idling_count])\n",
    "    pred=clf.predict_proba(x).tolist()\n",
    "    return [x[1] for x in pred] \n",
    "    "
   ]
  },
  {
   "cell_type": "code",
   "execution_count": 31,
   "metadata": {},
   "outputs": [],
   "source": [
    "# Publish the predictProb function to TabPy server so it can be used from Tableau\n",
    "# Using the name modelPredict and a short description of what it does\n",
    "connection.deploy('modelPredict',predictProb,\n",
    "                  'Gives the probability of having a risk greater than 7',override=True)"
   ]
  },
  {
   "cell_type": "code",
   "execution_count": 32,
   "metadata": {},
   "outputs": [
    {
     "data": {
      "text/html": [
       "<div>\n",
       "<style scoped>\n",
       "    .dataframe tbody tr th:only-of-type {\n",
       "        vertical-align: middle;\n",
       "    }\n",
       "\n",
       "    .dataframe tbody tr th {\n",
       "        vertical-align: top;\n",
       "    }\n",
       "\n",
       "    .dataframe thead th {\n",
       "        text-align: right;\n",
       "    }\n",
       "</style>\n",
       "<table border=\"1\" class=\"dataframe\">\n",
       "  <thead>\n",
       "    <tr style=\"text-align: right;\">\n",
       "      <th></th>\n",
       "      <th>avgmpg</th>\n",
       "      <th>velocity</th>\n",
       "      <th>idling_count</th>\n",
       "    </tr>\n",
       "  </thead>\n",
       "  <tbody>\n",
       "    <tr>\n",
       "      <td>0</td>\n",
       "      <td>4.785823</td>\n",
       "      <td>37.4500</td>\n",
       "      <td>14</td>\n",
       "    </tr>\n",
       "    <tr>\n",
       "      <td>1</td>\n",
       "      <td>5.401718</td>\n",
       "      <td>31.7625</td>\n",
       "      <td>21</td>\n",
       "    </tr>\n",
       "    <tr>\n",
       "      <td>2</td>\n",
       "      <td>4.939039</td>\n",
       "      <td>30.3625</td>\n",
       "      <td>24</td>\n",
       "    </tr>\n",
       "    <tr>\n",
       "      <td>3</td>\n",
       "      <td>5.502369</td>\n",
       "      <td>33.8375</td>\n",
       "      <td>12</td>\n",
       "    </tr>\n",
       "    <tr>\n",
       "      <td>4</td>\n",
       "      <td>4.686164</td>\n",
       "      <td>35.3000</td>\n",
       "      <td>20</td>\n",
       "    </tr>\n",
       "  </tbody>\n",
       "</table>\n",
       "</div>"
      ],
      "text/plain": [
       "     avgmpg  velocity  idling_count\n",
       "0  4.785823   37.4500            14\n",
       "1  5.401718   31.7625            21\n",
       "2  4.939039   30.3625            24\n",
       "3  5.502369   33.8375            12\n",
       "4  4.686164   35.3000            20"
      ]
     },
     "execution_count": 32,
     "metadata": {},
     "output_type": "execute_result"
    }
   ],
   "source": [
    "x.head()"
   ]
  },
  {
   "cell_type": "code",
   "execution_count": null,
   "metadata": {},
   "outputs": [],
   "source": []
  }
 ],
 "metadata": {
  "kernelspec": {
   "display_name": "Python 3",
   "language": "python",
   "name": "python3"
  },
  "language_info": {
   "codemirror_mode": {
    "name": "ipython",
    "version": 3
   },
   "file_extension": ".py",
   "mimetype": "text/x-python",
   "name": "python",
   "nbconvert_exporter": "python",
   "pygments_lexer": "ipython3",
   "version": "3.7.4"
  }
 },
 "nbformat": 4,
 "nbformat_minor": 2
}
